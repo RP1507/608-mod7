{
 "cells": [
  {
   "cell_type": "markdown",
   "id": "6b4a3d8b-871f-4bb3-a31f-c280618497be",
   "metadata": {},
   "source": [
    "# Module 7 Bonus - Ryan Smith"
   ]
  },
  {
   "cell_type": "markdown",
   "id": "51f7dc00-9eb0-4cd6-9409-003e168ca1d9",
   "metadata": {},
   "source": [
    "#### Historical Average Price in April for Berkshire Hathaway Series A Stock (BRK.A)"
   ]
  },
  {
   "cell_type": "code",
   "execution_count": 1,
   "id": "535dc210-c4d2-4de2-b2f6-7a09bcfd4218",
   "metadata": {},
   "outputs": [],
   "source": [
    "import pandas as pd"
   ]
  },
  {
   "cell_type": "code",
   "execution_count": 2,
   "id": "4fb21300-bbe0-47bb-9165-682a680b2ca3",
   "metadata": {},
   "outputs": [],
   "source": [
    "brk = pd.read_csv('AprilStockPricesBRK_A_1980-2021.csv')"
   ]
  },
  {
   "cell_type": "code",
   "execution_count": 3,
   "id": "0b00e73d-056a-47a6-97d3-f9cdbfdae03c",
   "metadata": {},
   "outputs": [
    {
     "data": {
      "text/html": [
       "<div>\n",
       "<style scoped>\n",
       "    .dataframe tbody tr th:only-of-type {\n",
       "        vertical-align: middle;\n",
       "    }\n",
       "\n",
       "    .dataframe tbody tr th {\n",
       "        vertical-align: top;\n",
       "    }\n",
       "\n",
       "    .dataframe thead th {\n",
       "        text-align: right;\n",
       "    }\n",
       "</style>\n",
       "<table border=\"1\" class=\"dataframe\">\n",
       "  <thead>\n",
       "    <tr style=\"text-align: right;\">\n",
       "      <th></th>\n",
       "      <th>Year</th>\n",
       "      <th>Stock Average</th>\n",
       "    </tr>\n",
       "  </thead>\n",
       "  <tbody>\n",
       "    <tr>\n",
       "      <th>0</th>\n",
       "      <td>1980</td>\n",
       "      <td>275.24</td>\n",
       "    </tr>\n",
       "    <tr>\n",
       "      <th>1</th>\n",
       "      <td>1981</td>\n",
       "      <td>508.33</td>\n",
       "    </tr>\n",
       "    <tr>\n",
       "      <th>2</th>\n",
       "      <td>1982</td>\n",
       "      <td>509.52</td>\n",
       "    </tr>\n",
       "    <tr>\n",
       "      <th>3</th>\n",
       "      <td>1983</td>\n",
       "      <td>942.75</td>\n",
       "    </tr>\n",
       "    <tr>\n",
       "      <th>4</th>\n",
       "      <td>1984</td>\n",
       "      <td>1268.50</td>\n",
       "    </tr>\n",
       "  </tbody>\n",
       "</table>\n",
       "</div>"
      ],
      "text/plain": [
       "   Year  Stock Average\n",
       "0  1980         275.24\n",
       "1  1981         508.33\n",
       "2  1982         509.52\n",
       "3  1983         942.75\n",
       "4  1984        1268.50"
      ]
     },
     "execution_count": 3,
     "metadata": {},
     "output_type": "execute_result"
    }
   ],
   "source": [
    "brk.head()"
   ]
  },
  {
   "cell_type": "code",
   "execution_count": 4,
   "id": "73b3605d-0649-439c-b11b-f23e775248c5",
   "metadata": {},
   "outputs": [
    {
     "data": {
      "text/html": [
       "<div>\n",
       "<style scoped>\n",
       "    .dataframe tbody tr th:only-of-type {\n",
       "        vertical-align: middle;\n",
       "    }\n",
       "\n",
       "    .dataframe tbody tr th {\n",
       "        vertical-align: top;\n",
       "    }\n",
       "\n",
       "    .dataframe thead th {\n",
       "        text-align: right;\n",
       "    }\n",
       "</style>\n",
       "<table border=\"1\" class=\"dataframe\">\n",
       "  <thead>\n",
       "    <tr style=\"text-align: right;\">\n",
       "      <th></th>\n",
       "      <th>Year</th>\n",
       "      <th>Stock Average</th>\n",
       "    </tr>\n",
       "  </thead>\n",
       "  <tbody>\n",
       "    <tr>\n",
       "      <th>37</th>\n",
       "      <td>2017</td>\n",
       "      <td>249640.59</td>\n",
       "    </tr>\n",
       "    <tr>\n",
       "      <th>38</th>\n",
       "      <td>2018</td>\n",
       "      <td>299431.55</td>\n",
       "    </tr>\n",
       "    <tr>\n",
       "      <th>39</th>\n",
       "      <td>2019</td>\n",
       "      <td>314395.83</td>\n",
       "    </tr>\n",
       "    <tr>\n",
       "      <th>40</th>\n",
       "      <td>2020</td>\n",
       "      <td>283204.25</td>\n",
       "    </tr>\n",
       "    <tr>\n",
       "      <th>41</th>\n",
       "      <td>2021</td>\n",
       "      <td>405982.19</td>\n",
       "    </tr>\n",
       "  </tbody>\n",
       "</table>\n",
       "</div>"
      ],
      "text/plain": [
       "    Year  Stock Average\n",
       "37  2017      249640.59\n",
       "38  2018      299431.55\n",
       "39  2019      314395.83\n",
       "40  2020      283204.25\n",
       "41  2021      405982.19"
      ]
     },
     "execution_count": 4,
     "metadata": {},
     "output_type": "execute_result"
    }
   ],
   "source": [
    "brk.tail()"
   ]
  },
  {
   "cell_type": "code",
   "execution_count": 5,
   "id": "53925224-d2c5-4b3c-a2fa-64a99fe1c736",
   "metadata": {},
   "outputs": [],
   "source": [
    "brk.columns = ['Year','Avg_Price'] "
   ]
  },
  {
   "cell_type": "code",
   "execution_count": 6,
   "id": "ce5033c9-c012-42a6-913f-064b252edda8",
   "metadata": {},
   "outputs": [
    {
     "data": {
      "text/html": [
       "<div>\n",
       "<style scoped>\n",
       "    .dataframe tbody tr th:only-of-type {\n",
       "        vertical-align: middle;\n",
       "    }\n",
       "\n",
       "    .dataframe tbody tr th {\n",
       "        vertical-align: top;\n",
       "    }\n",
       "\n",
       "    .dataframe thead th {\n",
       "        text-align: right;\n",
       "    }\n",
       "</style>\n",
       "<table border=\"1\" class=\"dataframe\">\n",
       "  <thead>\n",
       "    <tr style=\"text-align: right;\">\n",
       "      <th></th>\n",
       "      <th>Year</th>\n",
       "      <th>Avg_Price</th>\n",
       "    </tr>\n",
       "  </thead>\n",
       "  <tbody>\n",
       "    <tr>\n",
       "      <th>0</th>\n",
       "      <td>1980</td>\n",
       "      <td>275.24</td>\n",
       "    </tr>\n",
       "    <tr>\n",
       "      <th>1</th>\n",
       "      <td>1981</td>\n",
       "      <td>508.33</td>\n",
       "    </tr>\n",
       "    <tr>\n",
       "      <th>2</th>\n",
       "      <td>1982</td>\n",
       "      <td>509.52</td>\n",
       "    </tr>\n",
       "    <tr>\n",
       "      <th>3</th>\n",
       "      <td>1983</td>\n",
       "      <td>942.75</td>\n",
       "    </tr>\n",
       "    <tr>\n",
       "      <th>4</th>\n",
       "      <td>1984</td>\n",
       "      <td>1268.50</td>\n",
       "    </tr>\n",
       "  </tbody>\n",
       "</table>\n",
       "</div>"
      ],
      "text/plain": [
       "   Year  Avg_Price\n",
       "0  1980     275.24\n",
       "1  1981     508.33\n",
       "2  1982     509.52\n",
       "3  1983     942.75\n",
       "4  1984    1268.50"
      ]
     },
     "execution_count": 6,
     "metadata": {},
     "output_type": "execute_result"
    }
   ],
   "source": [
    "brk.head()"
   ]
  },
  {
   "cell_type": "code",
   "execution_count": 7,
   "id": "19f71c60-bcc6-45db-ad6d-be70512edf78",
   "metadata": {},
   "outputs": [],
   "source": [
    "pd.set_option('precision', 2)"
   ]
  },
  {
   "cell_type": "code",
   "execution_count": 8,
   "id": "53f5d987-78d7-4648-92c9-d3d08e915a81",
   "metadata": {},
   "outputs": [
    {
     "data": {
      "text/plain": [
       "count        42.00\n",
       "mean      92310.75\n",
       "std      102469.19\n",
       "min         275.24\n",
       "25%        7154.98\n",
       "50%       69923.93\n",
       "75%      122826.06\n",
       "max      405982.19\n",
       "Name: Avg_Price, dtype: float64"
      ]
     },
     "execution_count": 8,
     "metadata": {},
     "output_type": "execute_result"
    }
   ],
   "source": [
    "brk.Avg_Price.describe()"
   ]
  },
  {
   "cell_type": "code",
   "execution_count": 9,
   "id": "eaaffe37-753a-4e63-8614-25942e8ba9b2",
   "metadata": {},
   "outputs": [],
   "source": [
    "from scipy import stats"
   ]
  },
  {
   "cell_type": "code",
   "execution_count": 10,
   "id": "36e40d0c-c090-4018-bd66-5dcb17298788",
   "metadata": {},
   "outputs": [],
   "source": [
    "linear_regression = stats.linregress(x=brk.Year, y=brk.Avg_Price)"
   ]
  },
  {
   "cell_type": "code",
   "execution_count": 11,
   "id": "ae710459-2df0-45ee-a935-166fc41fe70f",
   "metadata": {},
   "outputs": [
    {
     "data": {
      "text/plain": [
       "7524.387915079815"
      ]
     },
     "execution_count": 11,
     "metadata": {},
     "output_type": "execute_result"
    }
   ],
   "source": [
    "linear_regression.slope"
   ]
  },
  {
   "cell_type": "code",
   "execution_count": 12,
   "id": "f4b0bfe1-1a29-4474-9b83-6d9407c11c09",
   "metadata": {},
   "outputs": [
    {
     "data": {
      "text/plain": [
       "-14960227.276498122"
      ]
     },
     "execution_count": 12,
     "metadata": {},
     "output_type": "execute_result"
    }
   ],
   "source": [
    "linear_regression.intercept"
   ]
  },
  {
   "cell_type": "code",
   "execution_count": 13,
   "id": "e4711fba-96b4-4b7d-9c6d-5ca3bb04d450",
   "metadata": {},
   "outputs": [
    {
     "data": {
      "text/plain": [
       "88548.55366150662"
      ]
     },
     "execution_count": 13,
     "metadata": {},
     "output_type": "execute_result"
    }
   ],
   "source": [
    "linear_regression.slope * 2000 + linear_regression.intercept"
   ]
  },
  {
   "cell_type": "code",
   "execution_count": 14,
   "id": "a46d02ea-2933-4498-8168-4130c3d0ed4d",
   "metadata": {},
   "outputs": [
    {
     "data": {
      "text/plain": [
       "163792.43281230517"
      ]
     },
     "execution_count": 14,
     "metadata": {},
     "output_type": "execute_result"
    }
   ],
   "source": [
    "linear_regression.slope * 2010 + linear_regression.intercept"
   ]
  },
  {
   "cell_type": "code",
   "execution_count": 15,
   "id": "9e85c247-3b0e-44a5-aedc-c5eb70b47da2",
   "metadata": {},
   "outputs": [],
   "source": [
    "import seaborn as sns"
   ]
  },
  {
   "cell_type": "code",
   "execution_count": 16,
   "id": "9f4e337d-db4e-4659-a201-7c4d07470bb3",
   "metadata": {},
   "outputs": [],
   "source": [
    "sns.set_style('whitegrid')"
   ]
  },
  {
   "cell_type": "code",
   "execution_count": 17,
   "id": "f1511480-d507-418a-9317-55976aa3e01b",
   "metadata": {},
   "outputs": [
    {
     "data": {
      "image/png": "[encoded data removed]",
      "text/plain": [
       "<Figure size 432x288 with 1 Axes>"
      ]
     },
     "metadata": {},
     "output_type": "display_data"
    }
   ],
   "source": [
    "axes = sns.regplot(x=brk.Year, y=brk.Avg_Price)"
   ]
  },
  {
   "cell_type": "markdown",
   "id": "5b9cfe43-59f5-42fb-ba94-88cadfef271e",
   "metadata": {},
   "source": [
    "# Predicting the future of the stock"
   ]
  },
  {
   "cell_type": "code",
   "execution_count": 18,
   "id": "85c2c429-4d96-4693-9c98-f1597916d43f",
   "metadata": {},
   "outputs": [],
   "source": [
    "%matplotlib inline"
   ]
  },
  {
   "cell_type": "code",
   "execution_count": 19,
   "id": "f5f2a0e7-310c-47bf-a176-d9e5acf1b7a7",
   "metadata": {},
   "outputs": [],
   "source": [
    "import pandas as pd"
   ]
  },
  {
   "cell_type": "code",
   "execution_count": 20,
   "id": "e903eb93-db31-4645-b318-ec61e2711c1f",
   "metadata": {},
   "outputs": [],
   "source": [
    "brk = pd.read_csv('AprilStockPricesBRK_A_1980-2021.csv')"
   ]
  },
  {
   "cell_type": "code",
   "execution_count": 21,
   "id": "9a4b1c08-1b27-4628-847b-4e81536136bc",
   "metadata": {},
   "outputs": [],
   "source": [
    "brk.columns = ['Year', 'AvgPrice']"
   ]
  },
  {
   "cell_type": "code",
   "execution_count": 22,
   "id": "a7cf72ab-1b2a-4114-89ca-8cd2a58e7029",
   "metadata": {},
   "outputs": [],
   "source": [
    "from sklearn.model_selection import train_test_split"
   ]
  },
  {
   "cell_type": "code",
   "execution_count": 23,
   "id": "7b7559d4-87f3-4cc6-9b34-f0797d7c5259",
   "metadata": {},
   "outputs": [],
   "source": [
    "X_train, X_test, y_train, y_test = train_test_split(\n",
    "     brk.Year.values.reshape(-1, 1), brk.AvgPrice.values, \n",
    "     random_state=11)"
   ]
  },
  {
   "cell_type": "code",
   "execution_count": 24,
   "id": "d5fd135b-9b22-4a9e-a14f-efbb5a3e7409",
   "metadata": {},
   "outputs": [
    {
     "data": {
      "text/plain": [
       "(31, 1)"
      ]
     },
     "execution_count": 24,
     "metadata": {},
     "output_type": "execute_result"
    }
   ],
   "source": [
    "X_train.shape"
   ]
  },
  {
   "cell_type": "code",
   "execution_count": 25,
   "id": "0e8ffc0d-9118-47ab-8627-be7d1c2237d0",
   "metadata": {},
   "outputs": [
    {
     "data": {
      "text/plain": [
       "(11, 1)"
      ]
     },
     "execution_count": 25,
     "metadata": {},
     "output_type": "execute_result"
    }
   ],
   "source": [
    "X_test.shape"
   ]
  },
  {
   "cell_type": "code",
   "execution_count": 26,
   "id": "939c0767-eddb-4397-b442-e4c9eef5dbf1",
   "metadata": {},
   "outputs": [],
   "source": [
    "from sklearn.linear_model import LinearRegression"
   ]
  },
  {
   "cell_type": "code",
   "execution_count": 27,
   "id": "fd8ff8c4-a876-44b2-aab3-89ef45ac720f",
   "metadata": {},
   "outputs": [],
   "source": [
    "linear_regression = LinearRegression()"
   ]
  },
  {
   "cell_type": "code",
   "execution_count": 28,
   "id": "f6c39b64-8254-4f25-b354-75bf270cff48",
   "metadata": {},
   "outputs": [
    {
     "data": {
      "text/plain": [
       "LinearRegression()"
      ]
     },
     "execution_count": 28,
     "metadata": {},
     "output_type": "execute_result"
    }
   ],
   "source": [
    "linear_regression.fit(X=X_train, y=y_train)"
   ]
  },
  {
   "cell_type": "code",
   "execution_count": 29,
   "id": "87aa2e99-7887-42f2-836f-1f10a75d986f",
   "metadata": {},
   "outputs": [
    {
     "data": {
      "text/plain": [
       "array([6986.08131012])"
      ]
     },
     "execution_count": 29,
     "metadata": {},
     "output_type": "execute_result"
    }
   ],
   "source": [
    "linear_regression.coef_"
   ]
  },
  {
   "cell_type": "code",
   "execution_count": 30,
   "id": "0632b4e4-06c6-45f8-a693-31668a728624",
   "metadata": {},
   "outputs": [
    {
     "data": {
      "text/plain": [
       "-13880262.875604838"
      ]
     },
     "execution_count": 30,
     "metadata": {},
     "output_type": "execute_result"
    }
   ],
   "source": [
    "linear_regression.intercept_"
   ]
  },
  {
   "cell_type": "code",
   "execution_count": 31,
   "id": "36ff79df-f092-4fba-97a5-e7ba0cadcb3d",
   "metadata": {},
   "outputs": [],
   "source": [
    "predicted = linear_regression.predict(X_test)"
   ]
  },
  {
   "cell_type": "code",
   "execution_count": 32,
   "id": "7c5c798b-8b17-4bc3-a183-e18a36f267cc",
   "metadata": {},
   "outputs": [],
   "source": [
    "expected = y_test"
   ]
  },
  {
   "cell_type": "code",
   "execution_count": 33,
   "id": "98ed8183-1e88-412e-adee-497026d0c32a",
   "metadata": {},
   "outputs": [
    {
     "name": "stdout",
     "output_type": "stream",
     "text": [
      "predicted: 91899.74, expected: 58552.63\n",
      "predicted: 112857.99, expected: 70838.10\n",
      "predicted: 49983.26, expected: 16101.32\n"
     ]
    }
   ],
   "source": [
    "for p, e in zip(predicted[::5], expected[::5]):\n",
    "     print(f'predicted: {p:.2f}, expected: {e:.2f}')"
   ]
  },
  {
   "cell_type": "code",
   "execution_count": 34,
   "id": "1a89ac50-414e-4816-a816-81bb2d7b5ebc",
   "metadata": {},
   "outputs": [],
   "source": [
    "predict = (lambda x: linear_regression.coef_ * x + linear_regression.intercept_)"
   ]
  },
  {
   "cell_type": "code",
   "execution_count": 35,
   "id": "a1ba38c4-0ce0-4b1f-812a-4e684eb12ee2",
   "metadata": {},
   "outputs": [
    {
     "data": {
      "text/plain": [
       "array([266551.77739167])"
      ]
     },
     "execution_count": 35,
     "metadata": {},
     "output_type": "execute_result"
    }
   ],
   "source": [
    "predict(2025)"
   ]
  },
  {
   "cell_type": "code",
   "execution_count": 36,
   "id": "440f5208-1188-42ad-99fa-d7c06046c813",
   "metadata": {},
   "outputs": [
    {
     "data": {
      "text/plain": [
       "array([476134.21669533])"
      ]
     },
     "execution_count": 36,
     "metadata": {},
     "output_type": "execute_result"
    }
   ],
   "source": [
    "predict(2055)"
   ]
  },
  {
   "cell_type": "code",
   "execution_count": 37,
   "id": "bd132f62-e7b6-4e97-a2f8-e296895a4334",
   "metadata": {},
   "outputs": [],
   "source": [
    "import seaborn as sns"
   ]
  },
  {
   "cell_type": "code",
   "execution_count": 38,
   "id": "2392e455-51a1-413a-80b1-38c17cddbbea",
   "metadata": {},
   "outputs": [
    {
     "data": {
      "image/png": "[encoded data removed]",
      "text/plain": [
       "<Figure size 432x288 with 1 Axes>"
      ]
     },
     "metadata": {
      "needs_background": "light"
     },
     "output_type": "display_data"
    }
   ],
   "source": [
    "axes = sns.scatterplot(data=brk, x='Year', y='AvgPrice',\n",
    "     hue='AvgPrice', palette='seismic', legend=False)\n",
    "\n",
    "#axes.set_ylim(10, 70)\n",
    "\n",
    "import numpy as np\n",
    "\n",
    "x = np.array([min(brk.Year.values), max(brk.Year.values)])\n",
    "\n",
    "y = predict(x)\n",
    "\n",
    "import matplotlib.pyplot as plt \n",
    "\n",
    "line = plt.plot(x, y)"
   ]
  }
 ],
 "metadata": {
  "kernelspec": {
   "display_name": "Python 3 (ipykernel)",
   "language": "python",
   "name": "python3"
  },
  "language_info": {
   "codemirror_mode": {
    "name": "ipython",
    "version": 3
   },
   "file_extension": ".py",
   "mimetype": "text/x-python",
   "name": "python",
   "nbconvert_exporter": "python",
   "pygments_lexer": "ipython3",
   "version": "3.9.7"
  }
 },
 "nbformat": 4,
 "nbformat_minor": 5
}
